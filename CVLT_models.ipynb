{
 "cells": [
  {
   "cell_type": "code",
   "execution_count": 8,
   "metadata": {},
   "outputs": [],
   "source": [
    "from preprocess import *\n",
    "from nestedCV import *\n",
    "from visualize import *\n",
    "from permutation_test import *"
   ]
  },
  {
   "attachments": {},
   "cell_type": "markdown",
   "metadata": {},
   "source": [
    "### Import dataset"
   ]
  },
  {
   "cell_type": "code",
   "execution_count": 2,
   "metadata": {},
   "outputs": [
    {
     "data": {
      "text/plain": [
       "(140, 61)"
      ]
     },
     "execution_count": 2,
     "metadata": {},
     "output_type": "execute_result"
    }
   ],
   "source": [
    "data = pd.read_csv(\"C:/Users/kimng/Desktop/Thesis_data/WMS_CVLT_FS_merged.csv\")\n",
    "#data = data.reset_index(drop=True)\n",
    "\n",
    "columns = ['CVLT_Imm_Total', 'CVLT_DelR_LD_Free',\n",
    "               'Age','Sex', 'EduYears', 'Smoker', 'High_BP', 'COMT2', 'BDNF2', \n",
    "               'ApoE_e2e4', 'ApoE_e2', 'ApoE_e3', 'ApoE_e4',\n",
    "               'LH_Total', 'RH_Total', 'TotalHC',\n",
    "               'L_HH_Total', 'R_HH_Total', 'TotalHead',\n",
    "               'L_HB_Total', 'R_HB_Total', 'TotalBody',\n",
    "               'L_HT_Total', 'R_HT_Total', 'TotalTail',\n",
    "               'L_DG_Total', 'R_DG_Total', 'TotalDG',\n",
    "               'L_CA_Total', 'R_CA_Total', 'TotalCA',\n",
    "               'L_Sub_Total', 'R_Sub_Total', 'TotalSub',\n",
    "               'L_HH_CA', 'R_HH_CA', 'HeadCA',\n",
    "               'L_HB_CA', 'R_HB_CA', 'BodyCA',\n",
    "               'L_HT_CA', 'R_HT_CA', 'TailCA',\n",
    "               'L_HH_DG', 'R_HH_DG', 'HeadDG',\n",
    "               'L_HB_DG', 'R_HB_DG', 'BodyDG',\n",
    "               'L_HT_DG', 'R_HT_DG', 'TailDG',\n",
    "               'L_HH_Sub', 'R_HH_Sub', 'HeadSub',\n",
    "               'L_HB_Sub', 'R_HB_Sub', 'BodySub',\n",
    "               'L_HT_Sub', 'R_HT_Sub', 'TailSub']\n",
    "#preprocess\n",
    "df = data[columns]\n",
    "df.shape"
   ]
  },
  {
   "cell_type": "code",
   "execution_count": 3,
   "metadata": {},
   "outputs": [
    {
     "data": {
      "text/plain": [
       "CVLT_Imm_Total        3\n",
       "CVLT_DelR_LD_Free     3\n",
       "Age                   0\n",
       "Sex                   0\n",
       "EduYears              0\n",
       "                     ..\n",
       "R_HB_Sub             11\n",
       "BodySub              11\n",
       "L_HT_Sub             11\n",
       "R_HT_Sub             11\n",
       "TailSub              11\n",
       "Length: 61, dtype: int64"
      ]
     },
     "execution_count": 3,
     "metadata": {},
     "output_type": "execute_result"
    }
   ],
   "source": [
    "df.isnull().sum()"
   ]
  },
  {
   "cell_type": "code",
   "execution_count": 4,
   "metadata": {},
   "outputs": [
    {
     "name": "stderr",
     "output_type": "stream",
     "text": [
      "c:\\Users\\kimng\\AppData\\Local\\Programs\\Python\\Python39\\lib\\site-packages\\pandas\\util\\_decorators.py:311: SettingWithCopyWarning: \n",
      "A value is trying to be set on a copy of a slice from a DataFrame\n",
      "\n",
      "See the caveats in the documentation: https://pandas.pydata.org/pandas-docs/stable/user_guide/indexing.html#returning-a-view-versus-a-copy\n",
      "  return func(*args, **kwargs)\n"
     ]
    },
    {
     "data": {
      "text/plain": [
       "(129, 61)"
      ]
     },
     "execution_count": 4,
     "metadata": {},
     "output_type": "execute_result"
    }
   ],
   "source": [
    "df.dropna(inplace = True)\n",
    "df.shape"
   ]
  },
  {
   "cell_type": "code",
   "execution_count": 9,
   "metadata": {},
   "outputs": [],
   "source": [
    "df = preprocess(df)"
   ]
  },
  {
   "cell_type": "code",
   "execution_count": 10,
   "metadata": {},
   "outputs": [
    {
     "data": {
      "text/html": [
       "<div>\n",
       "<style scoped>\n",
       "    .dataframe tbody tr th:only-of-type {\n",
       "        vertical-align: middle;\n",
       "    }\n",
       "\n",
       "    .dataframe tbody tr th {\n",
       "        vertical-align: top;\n",
       "    }\n",
       "\n",
       "    .dataframe thead th {\n",
       "        text-align: right;\n",
       "    }\n",
       "</style>\n",
       "<table border=\"1\" class=\"dataframe\">\n",
       "  <thead>\n",
       "    <tr style=\"text-align: right;\">\n",
       "      <th></th>\n",
       "      <th>CVLT_Imm_Total</th>\n",
       "      <th>CVLT_DelR_LD_Free</th>\n",
       "      <th>Age</th>\n",
       "      <th>Sex</th>\n",
       "      <th>EduYears</th>\n",
       "      <th>Smoker</th>\n",
       "      <th>High_BP</th>\n",
       "      <th>COMT2</th>\n",
       "      <th>BDNF2</th>\n",
       "      <th>ApoE_e2e4</th>\n",
       "      <th>...</th>\n",
       "      <th>L_HH_Sub</th>\n",
       "      <th>R_HH_Sub</th>\n",
       "      <th>HeadSub</th>\n",
       "      <th>L_HB_Sub</th>\n",
       "      <th>R_HB_Sub</th>\n",
       "      <th>BodySub</th>\n",
       "      <th>L_HT_Sub</th>\n",
       "      <th>R_HT_Sub</th>\n",
       "      <th>TailSub</th>\n",
       "      <th>grp</th>\n",
       "    </tr>\n",
       "  </thead>\n",
       "  <tbody>\n",
       "    <tr>\n",
       "      <th>count</th>\n",
       "      <td>129.000000</td>\n",
       "      <td>129.000000</td>\n",
       "      <td>129.000000</td>\n",
       "      <td>129.000000</td>\n",
       "      <td>129.000000</td>\n",
       "      <td>129.000000</td>\n",
       "      <td>129.000000</td>\n",
       "      <td>129.000000</td>\n",
       "      <td>129.000000</td>\n",
       "      <td>129.000000</td>\n",
       "      <td>...</td>\n",
       "      <td>129.000000</td>\n",
       "      <td>129.000000</td>\n",
       "      <td>129.000000</td>\n",
       "      <td>129.000000</td>\n",
       "      <td>129.000000</td>\n",
       "      <td>129.000000</td>\n",
       "      <td>129.000000</td>\n",
       "      <td>129.000000</td>\n",
       "      <td>129.000000</td>\n",
       "      <td>59.000000</td>\n",
       "    </tr>\n",
       "    <tr>\n",
       "      <th>mean</th>\n",
       "      <td>54.775194</td>\n",
       "      <td>12.248062</td>\n",
       "      <td>47.635659</td>\n",
       "      <td>1.542636</td>\n",
       "      <td>15.860465</td>\n",
       "      <td>1.031008</td>\n",
       "      <td>1.116279</td>\n",
       "      <td>0.759690</td>\n",
       "      <td>0.333333</td>\n",
       "      <td>0.023256</td>\n",
       "      <td>...</td>\n",
       "      <td>270.114788</td>\n",
       "      <td>286.853054</td>\n",
       "      <td>278.483682</td>\n",
       "      <td>216.401042</td>\n",
       "      <td>208.797596</td>\n",
       "      <td>212.599319</td>\n",
       "      <td>26.868606</td>\n",
       "      <td>29.594662</td>\n",
       "      <td>28.231705</td>\n",
       "      <td>8.542373</td>\n",
       "    </tr>\n",
       "    <tr>\n",
       "      <th>std</th>\n",
       "      <td>9.126062</td>\n",
       "      <td>2.613161</td>\n",
       "      <td>18.883251</td>\n",
       "      <td>0.500121</td>\n",
       "      <td>2.461403</td>\n",
       "      <td>0.174014</td>\n",
       "      <td>0.321809</td>\n",
       "      <td>0.428938</td>\n",
       "      <td>0.473242</td>\n",
       "      <td>0.151302</td>\n",
       "      <td>...</td>\n",
       "      <td>54.831992</td>\n",
       "      <td>53.460985</td>\n",
       "      <td>48.525469</td>\n",
       "      <td>41.213681</td>\n",
       "      <td>35.336911</td>\n",
       "      <td>32.460184</td>\n",
       "      <td>6.789627</td>\n",
       "      <td>8.055470</td>\n",
       "      <td>6.417249</td>\n",
       "      <td>3.997077</td>\n",
       "    </tr>\n",
       "    <tr>\n",
       "      <th>min</th>\n",
       "      <td>35.000000</td>\n",
       "      <td>5.000000</td>\n",
       "      <td>18.000000</td>\n",
       "      <td>1.000000</td>\n",
       "      <td>10.000000</td>\n",
       "      <td>1.000000</td>\n",
       "      <td>1.000000</td>\n",
       "      <td>0.000000</td>\n",
       "      <td>0.000000</td>\n",
       "      <td>0.000000</td>\n",
       "      <td>...</td>\n",
       "      <td>148.819290</td>\n",
       "      <td>158.846793</td>\n",
       "      <td>158.875000</td>\n",
       "      <td>110.909966</td>\n",
       "      <td>106.781205</td>\n",
       "      <td>108.845585</td>\n",
       "      <td>12.233782</td>\n",
       "      <td>15.553328</td>\n",
       "      <td>15.830000</td>\n",
       "      <td>2.000000</td>\n",
       "    </tr>\n",
       "    <tr>\n",
       "      <th>25%</th>\n",
       "      <td>49.000000</td>\n",
       "      <td>10.000000</td>\n",
       "      <td>30.000000</td>\n",
       "      <td>1.000000</td>\n",
       "      <td>14.000000</td>\n",
       "      <td>1.000000</td>\n",
       "      <td>1.000000</td>\n",
       "      <td>1.000000</td>\n",
       "      <td>0.000000</td>\n",
       "      <td>0.000000</td>\n",
       "      <td>...</td>\n",
       "      <td>229.770510</td>\n",
       "      <td>254.843688</td>\n",
       "      <td>244.575000</td>\n",
       "      <td>186.129439</td>\n",
       "      <td>187.518921</td>\n",
       "      <td>193.291448</td>\n",
       "      <td>22.200925</td>\n",
       "      <td>24.290453</td>\n",
       "      <td>23.615000</td>\n",
       "      <td>4.000000</td>\n",
       "    </tr>\n",
       "    <tr>\n",
       "      <th>50%</th>\n",
       "      <td>55.000000</td>\n",
       "      <td>12.000000</td>\n",
       "      <td>48.000000</td>\n",
       "      <td>2.000000</td>\n",
       "      <td>16.000000</td>\n",
       "      <td>1.000000</td>\n",
       "      <td>1.000000</td>\n",
       "      <td>1.000000</td>\n",
       "      <td>0.000000</td>\n",
       "      <td>0.000000</td>\n",
       "      <td>...</td>\n",
       "      <td>265.785139</td>\n",
       "      <td>285.320587</td>\n",
       "      <td>279.480000</td>\n",
       "      <td>215.537167</td>\n",
       "      <td>209.140882</td>\n",
       "      <td>211.015093</td>\n",
       "      <td>24.817369</td>\n",
       "      <td>28.900795</td>\n",
       "      <td>27.725000</td>\n",
       "      <td>8.000000</td>\n",
       "    </tr>\n",
       "    <tr>\n",
       "      <th>75%</th>\n",
       "      <td>61.000000</td>\n",
       "      <td>14.000000</td>\n",
       "      <td>64.000000</td>\n",
       "      <td>2.000000</td>\n",
       "      <td>17.000000</td>\n",
       "      <td>1.000000</td>\n",
       "      <td>1.000000</td>\n",
       "      <td>1.000000</td>\n",
       "      <td>1.000000</td>\n",
       "      <td>0.000000</td>\n",
       "      <td>...</td>\n",
       "      <td>310.839873</td>\n",
       "      <td>317.390520</td>\n",
       "      <td>308.750000</td>\n",
       "      <td>243.406118</td>\n",
       "      <td>230.304132</td>\n",
       "      <td>231.305634</td>\n",
       "      <td>31.469792</td>\n",
       "      <td>33.466886</td>\n",
       "      <td>31.035000</td>\n",
       "      <td>12.000000</td>\n",
       "    </tr>\n",
       "    <tr>\n",
       "      <th>max</th>\n",
       "      <td>73.000000</td>\n",
       "      <td>16.000000</td>\n",
       "      <td>85.000000</td>\n",
       "      <td>2.000000</td>\n",
       "      <td>23.000000</td>\n",
       "      <td>2.000000</td>\n",
       "      <td>2.000000</td>\n",
       "      <td>1.000000</td>\n",
       "      <td>1.000000</td>\n",
       "      <td>1.000000</td>\n",
       "      <td>...</td>\n",
       "      <td>433.877967</td>\n",
       "      <td>494.619458</td>\n",
       "      <td>425.795000</td>\n",
       "      <td>332.358149</td>\n",
       "      <td>305.395180</td>\n",
       "      <td>294.072303</td>\n",
       "      <td>46.911832</td>\n",
       "      <td>55.632057</td>\n",
       "      <td>49.930000</td>\n",
       "      <td>16.000000</td>\n",
       "    </tr>\n",
       "  </tbody>\n",
       "</table>\n",
       "<p>8 rows × 62 columns</p>\n",
       "</div>"
      ],
      "text/plain": [
       "       CVLT_Imm_Total  CVLT_DelR_LD_Free         Age         Sex    EduYears  \\\n",
       "count      129.000000         129.000000  129.000000  129.000000  129.000000   \n",
       "mean        54.775194          12.248062   47.635659    1.542636   15.860465   \n",
       "std          9.126062           2.613161   18.883251    0.500121    2.461403   \n",
       "min         35.000000           5.000000   18.000000    1.000000   10.000000   \n",
       "25%         49.000000          10.000000   30.000000    1.000000   14.000000   \n",
       "50%         55.000000          12.000000   48.000000    2.000000   16.000000   \n",
       "75%         61.000000          14.000000   64.000000    2.000000   17.000000   \n",
       "max         73.000000          16.000000   85.000000    2.000000   23.000000   \n",
       "\n",
       "           Smoker     High_BP       COMT2       BDNF2   ApoE_e2e4  ...  \\\n",
       "count  129.000000  129.000000  129.000000  129.000000  129.000000  ...   \n",
       "mean     1.031008    1.116279    0.759690    0.333333    0.023256  ...   \n",
       "std      0.174014    0.321809    0.428938    0.473242    0.151302  ...   \n",
       "min      1.000000    1.000000    0.000000    0.000000    0.000000  ...   \n",
       "25%      1.000000    1.000000    1.000000    0.000000    0.000000  ...   \n",
       "50%      1.000000    1.000000    1.000000    0.000000    0.000000  ...   \n",
       "75%      1.000000    1.000000    1.000000    1.000000    0.000000  ...   \n",
       "max      2.000000    2.000000    1.000000    1.000000    1.000000  ...   \n",
       "\n",
       "         L_HH_Sub    R_HH_Sub     HeadSub    L_HB_Sub    R_HB_Sub     BodySub  \\\n",
       "count  129.000000  129.000000  129.000000  129.000000  129.000000  129.000000   \n",
       "mean   270.114788  286.853054  278.483682  216.401042  208.797596  212.599319   \n",
       "std     54.831992   53.460985   48.525469   41.213681   35.336911   32.460184   \n",
       "min    148.819290  158.846793  158.875000  110.909966  106.781205  108.845585   \n",
       "25%    229.770510  254.843688  244.575000  186.129439  187.518921  193.291448   \n",
       "50%    265.785139  285.320587  279.480000  215.537167  209.140882  211.015093   \n",
       "75%    310.839873  317.390520  308.750000  243.406118  230.304132  231.305634   \n",
       "max    433.877967  494.619458  425.795000  332.358149  305.395180  294.072303   \n",
       "\n",
       "         L_HT_Sub    R_HT_Sub     TailSub        grp  \n",
       "count  129.000000  129.000000  129.000000  59.000000  \n",
       "mean    26.868606   29.594662   28.231705   8.542373  \n",
       "std      6.789627    8.055470    6.417249   3.997077  \n",
       "min     12.233782   15.553328   15.830000   2.000000  \n",
       "25%     22.200925   24.290453   23.615000   4.000000  \n",
       "50%     24.817369   28.900795   27.725000   8.000000  \n",
       "75%     31.469792   33.466886   31.035000  12.000000  \n",
       "max     46.911832   55.632057   49.930000  16.000000  \n",
       "\n",
       "[8 rows x 62 columns]"
      ]
     },
     "execution_count": 10,
     "metadata": {},
     "output_type": "execute_result"
    }
   ],
   "source": [
    "df.describe()"
   ]
  },
  {
   "attachments": {},
   "cell_type": "markdown",
   "metadata": {},
   "source": [
    "### Initialize models and set up parameter grid"
   ]
  },
  {
   "cell_type": "code",
   "execution_count": 17,
   "metadata": {},
   "outputs": [],
   "source": [
    "from sklearn.linear_model import ElasticNet\n",
    "from sklearn_rvm import EMRVR\n",
    "\n",
    "enlr = ElasticNet()\n",
    "rvr = EMRVR()"
   ]
  },
  {
   "cell_type": "code",
   "execution_count": null,
   "metadata": {},
   "outputs": [],
   "source": [
    "#Set up parameter grid\n",
    "param_grid_enlr = [{\n",
    "                    'alpha': np.arange(0.01, 2.01, 0.01),\n",
    "                    'l1_ratio': np.arange(0, 1.01, 0.01)\n",
    "                    }]\n",
    "\n",
    "param_grid_rvr = [{\n",
    "                    'gamma': ['scale', 'auto'], \n",
    "                    'kernel': ['linear', 'poly', 'rbf'], \n",
    "                    'degree': [2,3,4,5]\n",
    "                    }]"
   ]
  },
  {
   "attachments": {},
   "cell_type": "markdown",
   "metadata": {},
   "source": [
    "### Model 1: with demographics and genetic polymorphisms"
   ]
  },
  {
   "cell_type": "code",
   "execution_count": 6,
   "metadata": {},
   "outputs": [],
   "source": [
    "feature_names = ['Age','Sex', 'EduYears', 'COMT2', 'BDNF2', 'ApoE_e2e4', 'ApoE_e2', 'ApoE_e3', 'ApoE_e4']\n",
    "ir = ['CVLT_Imm_Total']\n",
    "dr = ['CVLT_DelR_LD_Free']"
   ]
  },
  {
   "cell_type": "code",
   "execution_count": 7,
   "metadata": {},
   "outputs": [
    {
     "ename": "NameError",
     "evalue": "name 'df' is not defined",
     "output_type": "error",
     "traceback": [
      "\u001b[1;31m---------------------------------------------------------------------------\u001b[0m",
      "\u001b[1;31mNameError\u001b[0m                                 Traceback (most recent call last)",
      "\u001b[1;32m~\\AppData\\Local\\Temp\\ipykernel_25804\\2820656992.py\u001b[0m in \u001b[0;36m<module>\u001b[1;34m\u001b[0m\n\u001b[0;32m      2\u001b[0m                                                                         \u001b[0mfeature_names\u001b[0m\u001b[1;33m=\u001b[0m\u001b[0mfeature_names\u001b[0m\u001b[1;33m,\u001b[0m\u001b[1;33m\u001b[0m\u001b[1;33m\u001b[0m\u001b[0m\n\u001b[0;32m      3\u001b[0m                                                                         \u001b[0mtarget\u001b[0m\u001b[1;33m=\u001b[0m\u001b[0mir\u001b[0m\u001b[1;33m,\u001b[0m\u001b[1;33m\u001b[0m\u001b[1;33m\u001b[0m\u001b[0m\n\u001b[1;32m----> 4\u001b[1;33m                                                                         \u001b[0mdf\u001b[0m\u001b[1;33m=\u001b[0m\u001b[0mdf\u001b[0m\u001b[1;33m,\u001b[0m\u001b[1;33m\u001b[0m\u001b[1;33m\u001b[0m\u001b[0m\n\u001b[0m\u001b[0;32m      5\u001b[0m                                                                         \u001b[0mmodel\u001b[0m \u001b[1;33m=\u001b[0m \u001b[0menlr\u001b[0m\u001b[1;33m,\u001b[0m\u001b[1;33m\u001b[0m\u001b[1;33m\u001b[0m\u001b[0m\n\u001b[0;32m      6\u001b[0m                                                                         \u001b[0mparam_grid\u001b[0m\u001b[1;33m=\u001b[0m\u001b[0mparam_grid\u001b[0m\u001b[1;33m\u001b[0m\u001b[1;33m\u001b[0m\u001b[0m\n",
      "\u001b[1;31mNameError\u001b[0m: name 'df' is not defined"
     ]
    }
   ],
   "source": [
    "rmse_enlr1_ir, r2_enlr1_ir, corr_enlr1_ir, imp_train_enlr1_ir, imp_test_enlr1_ir = nested_cv(\n",
    "                                                                        feature_names=feature_names,\n",
    "                                                                        target=ir,\n",
    "                                                                        df=df,\n",
    "                                                                        model = enlr,\n",
    "                                                                        param_grid=param_grid\n",
    "                                                                        )"
   ]
  },
  {
   "cell_type": "code",
   "execution_count": null,
   "metadata": {},
   "outputs": [],
   "source": [
    "rmse_enlr1_dr, r2_enlr1_dr, corr_enlr1_dr, imp_train_enlr1_dr, imp_test_enlr1_dr = nested_cv(\n",
    "                                                                        feature_names=feature_names,\n",
    "                                                                        target=dr,\n",
    "                                                                        df=df,\n",
    "                                                                        model = enlr,\n",
    "                                                                        param_grid=param_grid\n",
    "                                                                        )"
   ]
  },
  {
   "attachments": {},
   "cell_type": "markdown",
   "metadata": {},
   "source": []
  },
  {
   "cell_type": "code",
   "execution_count": null,
   "metadata": {},
   "outputs": [],
   "source": [
    "rmse_rvr1_ir, r2_rvr1_ir, corr_rvr1_ir, imp_train_rvr1_ir, imp_test_rvr1_ir = nested_cv(\n",
    "                                                                        feature_names=feature_names,\n",
    "                                                                        target=ir,\n",
    "                                                                        df=df,\n",
    "                                                                        model = rvr,\n",
    "                                                                        param_grid=param_grid\n",
    "                                                                        )"
   ]
  }
 ],
 "metadata": {
  "kernelspec": {
   "display_name": "geo_env",
   "language": "python",
   "name": "python3"
  },
  "language_info": {
   "codemirror_mode": {
    "name": "ipython",
    "version": 3
   },
   "file_extension": ".py",
   "mimetype": "text/x-python",
   "name": "python",
   "nbconvert_exporter": "python",
   "pygments_lexer": "ipython3",
   "version": "3.9.5"
  },
  "orig_nbformat": 4
 },
 "nbformat": 4,
 "nbformat_minor": 2
}
