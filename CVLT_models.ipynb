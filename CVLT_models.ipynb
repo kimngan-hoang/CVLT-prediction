{
 "cells": [
  {
   "cell_type": "code",
   "execution_count": 103,
   "metadata": {},
   "outputs": [],
   "source": [
    "from preprocess import *\n",
    "from nestedCV import *\n",
    "from visualize import *\n",
    "from permutation_test import *"
   ]
  },
  {
   "attachments": {},
   "cell_type": "markdown",
   "metadata": {},
   "source": [
    "### Import dataset"
   ]
  },
  {
   "cell_type": "code",
   "execution_count": 104,
   "metadata": {},
   "outputs": [
    {
     "data": {
      "text/plain": [
       "(140, 61)"
      ]
     },
     "execution_count": 104,
     "metadata": {},
     "output_type": "execute_result"
    }
   ],
   "source": [
    "data = pd.read_csv(\"C:/Users/kimng/Desktop/Thesis_data/WMS_CVLT_FS_merged.csv\")\n",
    "#data = data.reset_index(drop=True)\n",
    "\n",
    "columns = ['CVLT_Imm_Total', 'CVLT_DelR_LD_Free',\n",
    "               'Age','Sex', 'EduYears', 'Smoker', 'High_BP', 'COMT2', 'BDNF2', \n",
    "               'ApoE_e2e4', 'ApoE_e2', 'ApoE_e3', 'ApoE_e4',\n",
    "               'LH_Total', 'RH_Total', 'TotalHC',\n",
    "               'L_HH_Total', 'R_HH_Total', 'TotalHead',\n",
    "               'L_HB_Total', 'R_HB_Total', 'TotalBody',\n",
    "               'L_HT_Total', 'R_HT_Total', 'TotalTail',\n",
    "               'L_DG_Total', 'R_DG_Total', 'TotalDG',\n",
    "               'L_CA_Total', 'R_CA_Total', 'TotalCA',\n",
    "               'L_Sub_Total', 'R_Sub_Total', 'TotalSub',\n",
    "               'L_HH_CA', 'R_HH_CA', 'HeadCA',\n",
    "               'L_HB_CA', 'R_HB_CA', 'BodyCA',\n",
    "               'L_HT_CA', 'R_HT_CA', 'TailCA',\n",
    "               'L_HH_DG', 'R_HH_DG', 'HeadDG',\n",
    "               'L_HB_DG', 'R_HB_DG', 'BodyDG',\n",
    "               'L_HT_DG', 'R_HT_DG', 'TailDG',\n",
    "               'L_HH_Sub', 'R_HH_Sub', 'HeadSub',\n",
    "               'L_HB_Sub', 'R_HB_Sub', 'BodySub',\n",
    "               'L_HT_Sub', 'R_HT_Sub', 'TailSub']\n",
    "#preprocess\n",
    "df = data[columns]\n",
    "df.shape"
   ]
  },
  {
   "cell_type": "code",
   "execution_count": 105,
   "metadata": {},
   "outputs": [
    {
     "data": {
      "text/plain": [
       "CVLT_Imm_Total        3\n",
       "CVLT_DelR_LD_Free     3\n",
       "Age                   0\n",
       "Sex                   0\n",
       "EduYears              0\n",
       "                     ..\n",
       "R_HB_Sub             11\n",
       "BodySub              11\n",
       "L_HT_Sub             11\n",
       "R_HT_Sub             11\n",
       "TailSub              11\n",
       "Length: 61, dtype: int64"
      ]
     },
     "execution_count": 105,
     "metadata": {},
     "output_type": "execute_result"
    }
   ],
   "source": [
    "df.isnull().sum()"
   ]
  },
  {
   "cell_type": "code",
   "execution_count": 106,
   "metadata": {},
   "outputs": [
    {
     "name": "stderr",
     "output_type": "stream",
     "text": [
      "c:\\Users\\kimng\\AppData\\Local\\Programs\\Python\\Python39\\lib\\site-packages\\pandas\\util\\_decorators.py:311: SettingWithCopyWarning: \n",
      "A value is trying to be set on a copy of a slice from a DataFrame\n",
      "\n",
      "See the caveats in the documentation: https://pandas.pydata.org/pandas-docs/stable/user_guide/indexing.html#returning-a-view-versus-a-copy\n",
      "  return func(*args, **kwargs)\n"
     ]
    },
    {
     "data": {
      "text/plain": [
       "(129, 61)"
      ]
     },
     "execution_count": 106,
     "metadata": {},
     "output_type": "execute_result"
    }
   ],
   "source": [
    "df.dropna(inplace = True)\n",
    "df.shape"
   ]
  },
  {
   "cell_type": "code",
   "execution_count": 107,
   "metadata": {},
   "outputs": [
    {
     "ename": "TypeError",
     "evalue": "preprocessing() missing 1 required positional argument: 'columns'",
     "output_type": "error",
     "traceback": [
      "\u001b[1;31m---------------------------------------------------------------------------\u001b[0m",
      "\u001b[1;31mTypeError\u001b[0m                                 Traceback (most recent call last)",
      "\u001b[1;32m~\\AppData\\Local\\Temp\\ipykernel_25804\\1061692552.py\u001b[0m in \u001b[0;36m<module>\u001b[1;34m\u001b[0m\n\u001b[1;32m----> 1\u001b[1;33m \u001b[0mdf\u001b[0m \u001b[1;33m=\u001b[0m \u001b[0mpreprocessing\u001b[0m\u001b[1;33m(\u001b[0m\u001b[0mdf\u001b[0m\u001b[1;33m)\u001b[0m\u001b[1;33m\u001b[0m\u001b[1;33m\u001b[0m\u001b[0m\n\u001b[0m",
      "\u001b[1;31mTypeError\u001b[0m: preprocessing() missing 1 required positional argument: 'columns'"
     ]
    }
   ],
   "source": [
    "df = preprocessing(df)"
   ]
  },
  {
   "attachments": {},
   "cell_type": "markdown",
   "metadata": {},
   "source": [
    "### Initialize models and set up parameter grid"
   ]
  },
  {
   "cell_type": "code",
   "execution_count": 17,
   "metadata": {},
   "outputs": [],
   "source": [
    "from sklearn.linear_model import ElasticNet\n",
    "from sklearn_rvm import EMRVR\n",
    "\n",
    "enlr = ElasticNet()\n",
    "rvr = EMRVR()"
   ]
  },
  {
   "cell_type": "code",
   "execution_count": null,
   "metadata": {},
   "outputs": [],
   "source": [
    "#Set up parameter grid\n",
    "param_grid_enlr = [{\n",
    "                    'alpha': np.arange(0.01, 2.01, 0.01),\n",
    "                    'l1_ratio': np.arange(0, 1.01, 0.01)\n",
    "                    }]\n",
    "\n",
    "param_grid_rvr = [{\n",
    "                    'gamma': ['scale', 'auto'], \n",
    "                    'kernel': ['linear', 'poly', 'rbf'], \n",
    "                    'degree': [2,3,4,5]\n",
    "                    }]"
   ]
  },
  {
   "attachments": {},
   "cell_type": "markdown",
   "metadata": {},
   "source": [
    "### Model 1: with demographics and genetic polymorphisms"
   ]
  },
  {
   "cell_type": "code",
   "execution_count": 6,
   "metadata": {},
   "outputs": [],
   "source": [
    "feature_names = ['Age','Sex', 'EduYears', 'COMT2', 'BDNF2', 'ApoE_e2e4', 'ApoE_e2', 'ApoE_e3', 'ApoE_e4']\n",
    "ir = ['CVLT_Imm_Total']\n",
    "dr = ['CVLT_DelR_LD_Free']"
   ]
  },
  {
   "cell_type": "code",
   "execution_count": 7,
   "metadata": {},
   "outputs": [
    {
     "ename": "NameError",
     "evalue": "name 'df' is not defined",
     "output_type": "error",
     "traceback": [
      "\u001b[1;31m---------------------------------------------------------------------------\u001b[0m",
      "\u001b[1;31mNameError\u001b[0m                                 Traceback (most recent call last)",
      "\u001b[1;32m~\\AppData\\Local\\Temp\\ipykernel_25804\\2820656992.py\u001b[0m in \u001b[0;36m<module>\u001b[1;34m\u001b[0m\n\u001b[0;32m      2\u001b[0m                                                                         \u001b[0mfeature_names\u001b[0m\u001b[1;33m=\u001b[0m\u001b[0mfeature_names\u001b[0m\u001b[1;33m,\u001b[0m\u001b[1;33m\u001b[0m\u001b[1;33m\u001b[0m\u001b[0m\n\u001b[0;32m      3\u001b[0m                                                                         \u001b[0mtarget\u001b[0m\u001b[1;33m=\u001b[0m\u001b[0mir\u001b[0m\u001b[1;33m,\u001b[0m\u001b[1;33m\u001b[0m\u001b[1;33m\u001b[0m\u001b[0m\n\u001b[1;32m----> 4\u001b[1;33m                                                                         \u001b[0mdf\u001b[0m\u001b[1;33m=\u001b[0m\u001b[0mdf\u001b[0m\u001b[1;33m,\u001b[0m\u001b[1;33m\u001b[0m\u001b[1;33m\u001b[0m\u001b[0m\n\u001b[0m\u001b[0;32m      5\u001b[0m                                                                         \u001b[0mmodel\u001b[0m \u001b[1;33m=\u001b[0m \u001b[0menlr\u001b[0m\u001b[1;33m,\u001b[0m\u001b[1;33m\u001b[0m\u001b[1;33m\u001b[0m\u001b[0m\n\u001b[0;32m      6\u001b[0m                                                                         \u001b[0mparam_grid\u001b[0m\u001b[1;33m=\u001b[0m\u001b[0mparam_grid\u001b[0m\u001b[1;33m\u001b[0m\u001b[1;33m\u001b[0m\u001b[0m\n",
      "\u001b[1;31mNameError\u001b[0m: name 'df' is not defined"
     ]
    }
   ],
   "source": [
    "rmse_enlr1_ir, r2_enlr1_ir, corr_enlr1_ir, imp_train_enlr1_ir, imp_test_enlr1_ir = nested_cv(\n",
    "                                                                        feature_names=feature_names,\n",
    "                                                                        target=ir,\n",
    "                                                                        df=df,\n",
    "                                                                        model = enlr,\n",
    "                                                                        param_grid=param_grid\n",
    "                                                                        )"
   ]
  },
  {
   "cell_type": "code",
   "execution_count": null,
   "metadata": {},
   "outputs": [],
   "source": [
    "rmse_enlr1_dr, r2_enlr1_dr, corr_enlr1_dr, imp_train_enlr1_dr, imp_test_enlr1_dr = nested_cv(\n",
    "                                                                        feature_names=feature_names,\n",
    "                                                                        target=dr,\n",
    "                                                                        df=df,\n",
    "                                                                        model = enlr,\n",
    "                                                                        param_grid=param_grid\n",
    "                                                                        )"
   ]
  },
  {
   "attachments": {},
   "cell_type": "markdown",
   "metadata": {},
   "source": []
  },
  {
   "cell_type": "code",
   "execution_count": null,
   "metadata": {},
   "outputs": [],
   "source": [
    "rmse_rvr1_ir, r2_rvr1_ir, corr_rvr1_ir, imp_train_rvr1_ir, imp_test_rvr1_ir = nested_cv(\n",
    "                                                                        feature_names=feature_names,\n",
    "                                                                        target=ir,\n",
    "                                                                        df=df,\n",
    "                                                                        model = rvr,\n",
    "                                                                        param_grid=param_grid\n",
    "                                                                        )"
   ]
  }
 ],
 "metadata": {
  "kernelspec": {
   "display_name": "geo_env",
   "language": "python",
   "name": "python3"
  },
  "language_info": {
   "codemirror_mode": {
    "name": "ipython",
    "version": 3
   },
   "file_extension": ".py",
   "mimetype": "text/x-python",
   "name": "python",
   "nbconvert_exporter": "python",
   "pygments_lexer": "ipython3",
   "version": "3.9.5"
  },
  "orig_nbformat": 4
 },
 "nbformat": 4,
 "nbformat_minor": 2
}
